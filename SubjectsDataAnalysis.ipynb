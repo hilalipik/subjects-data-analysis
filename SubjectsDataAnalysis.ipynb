{
 "cells": [
  {
   "cell_type": "code",
   "execution_count": 446,
   "id": "04d28386",
   "metadata": {},
   "outputs": [
    {
     "data": {
      "text/html": [
       "<div>\n",
       "<style scoped>\n",
       "    .dataframe tbody tr th:only-of-type {\n",
       "        vertical-align: middle;\n",
       "    }\n",
       "\n",
       "    .dataframe tbody tr th {\n",
       "        vertical-align: top;\n",
       "    }\n",
       "\n",
       "    .dataframe thead th {\n",
       "        text-align: right;\n",
       "    }\n",
       "</style>\n",
       "<table border=\"1\" class=\"dataframe\">\n",
       "  <thead>\n",
       "    <tr style=\"text-align: right;\">\n",
       "      <th></th>\n",
       "      <th>id</th>\n",
       "      <th>prior_heart_issues</th>\n",
       "      <th>status</th>\n",
       "      <th>gender</th>\n",
       "      <th>undergoing_treatment</th>\n",
       "      <th>age</th>\n",
       "    </tr>\n",
       "  </thead>\n",
       "  <tbody>\n",
       "    <tr>\n",
       "      <th>0</th>\n",
       "      <td>0</td>\n",
       "      <td>True</td>\n",
       "      <td>NE</td>\n",
       "      <td>M</td>\n",
       "      <td>True</td>\n",
       "      <td>58</td>\n",
       "    </tr>\n",
       "    <tr>\n",
       "      <th>1</th>\n",
       "      <td>1</td>\n",
       "      <td>True</td>\n",
       "      <td>Declined</td>\n",
       "      <td>F</td>\n",
       "      <td>False</td>\n",
       "      <td>72</td>\n",
       "    </tr>\n",
       "    <tr>\n",
       "      <th>2</th>\n",
       "      <td>2</td>\n",
       "      <td>False</td>\n",
       "      <td>NE</td>\n",
       "      <td>M</td>\n",
       "      <td>False</td>\n",
       "      <td>19</td>\n",
       "    </tr>\n",
       "    <tr>\n",
       "      <th>3</th>\n",
       "      <td>3</td>\n",
       "      <td>True</td>\n",
       "      <td>Declined</td>\n",
       "      <td>M</td>\n",
       "      <td>True</td>\n",
       "      <td>41</td>\n",
       "    </tr>\n",
       "    <tr>\n",
       "      <th>4</th>\n",
       "      <td>4</td>\n",
       "      <td>False</td>\n",
       "      <td>Declined</td>\n",
       "      <td>M</td>\n",
       "      <td>True</td>\n",
       "      <td>29</td>\n",
       "    </tr>\n",
       "    <tr>\n",
       "      <th>5</th>\n",
       "      <td>5</td>\n",
       "      <td>False</td>\n",
       "      <td>Declined</td>\n",
       "      <td>F</td>\n",
       "      <td>False</td>\n",
       "      <td>36</td>\n",
       "    </tr>\n",
       "    <tr>\n",
       "      <th>6</th>\n",
       "      <td>6</td>\n",
       "      <td>True</td>\n",
       "      <td>NE</td>\n",
       "      <td>M</td>\n",
       "      <td>True</td>\n",
       "      <td>57</td>\n",
       "    </tr>\n",
       "    <tr>\n",
       "      <th>7</th>\n",
       "      <td>7</td>\n",
       "      <td>True</td>\n",
       "      <td>Declined</td>\n",
       "      <td>M</td>\n",
       "      <td>True</td>\n",
       "      <td>53</td>\n",
       "    </tr>\n",
       "    <tr>\n",
       "      <th>8</th>\n",
       "      <td>8</td>\n",
       "      <td>False</td>\n",
       "      <td>NE</td>\n",
       "      <td>F</td>\n",
       "      <td>False</td>\n",
       "      <td>42</td>\n",
       "    </tr>\n",
       "    <tr>\n",
       "      <th>9</th>\n",
       "      <td>9</td>\n",
       "      <td>False</td>\n",
       "      <td>NE</td>\n",
       "      <td>M</td>\n",
       "      <td>True</td>\n",
       "      <td>47</td>\n",
       "    </tr>\n",
       "  </tbody>\n",
       "</table>\n",
       "</div>"
      ],
      "text/plain": [
       "   id  prior_heart_issues    status gender  undergoing_treatment  age\n",
       "0   0                True        NE      M                  True   58\n",
       "1   1                True  Declined      F                 False   72\n",
       "2   2               False        NE      M                 False   19\n",
       "3   3                True  Declined      M                  True   41\n",
       "4   4               False  Declined      M                  True   29\n",
       "5   5               False  Declined      F                 False   36\n",
       "6   6                True        NE      M                  True   57\n",
       "7   7                True  Declined      M                  True   53\n",
       "8   8               False        NE      F                 False   42\n",
       "9   9               False        NE      M                  True   47"
      ]
     },
     "execution_count": 446,
     "metadata": {},
     "output_type": "execute_result"
    }
   ],
   "source": [
    "import pandas as pd\n",
    "\n",
    "df = pd.read_csv('subjects.csv')\n",
    "# Clean up data, column named 'Unnamed: 0' doesn't make sense\n",
    "df = df.rename(columns={'Unnamed: 0': 'id'})\n",
    "df.head(10)"
   ]
  },
  {
   "cell_type": "code",
   "execution_count": 447,
   "id": "b3489d7f",
   "metadata": {},
   "outputs": [],
   "source": [
    "# Question 1\n",
    "counted = df.groupby('status')['id'].count().reset_index(name=\"count\")"
   ]
  },
  {
   "cell_type": "code",
   "execution_count": 448,
   "id": "fffa28a9",
   "metadata": {},
   "outputs": [],
   "source": [
    "import numpy as np\n",
    "data = pd.DataFrame({\"declined\" : [np.nan, int(counted[(counted.status == 'Declined')]['count'])],\n",
    "                    \"Healed\" : [int(counted[(counted.status == 'Healed')]['count']), np.nan],\n",
    "                     \"NE\" : [int(counted[(counted.status == 'NE')]['count']), np.nan]},\n",
    "                     index=['accepted', 'declined'])"
   ]
  },
  {
   "cell_type": "code",
   "execution_count": 449,
   "id": "7d22ee06",
   "metadata": {},
   "outputs": [
    {
     "data": {
      "image/png": "[encoded data removed]",
      "text/plain": [
       "<Figure size 640x480 with 1 Axes>"
      ]
     },
     "metadata": {},
     "output_type": "display_data"
    }
   ],
   "source": [
    "import matplotlib.pyplot as plt\n",
    "\n",
    "data.plot(kind='bar', stacked=True)\n",
    "plt.title(\"Accepted and declined subjects\")\n",
    "plt.xlabel(\"status\")\n",
    "plt.ylabel(\"count\")\n",
    "\n",
    "plt.show()"
   ]
  },
  {
   "cell_type": "code",
   "execution_count": 450,
   "id": "666c1623",
   "metadata": {},
   "outputs": [],
   "source": [
    "# Question 2\n",
    "df['prior_heart_issues'] = df['prior_heart_issues'].replace({True: 1, False: 0})\n",
    "df['undergoing_treatment'] = df['undergoing_treatment'].replace({True: 1, False: 0})\n",
    "df['gender'] = df['gender'].replace({'M': 1, 'F': 0})"
   ]
  },
  {
   "cell_type": "code",
   "execution_count": 434,
   "id": "c28231a0",
   "metadata": {},
   "outputs": [
    {
     "data": {
      "text/plain": [
       "array([[<AxesSubplot:title={'center':'prior_heart_issues'}>,\n",
       "        <AxesSubplot:title={'center':'gender'}>],\n",
       "       [<AxesSubplot:title={'center':'undergoing_treatment'}>,\n",
       "        <AxesSubplot:title={'center':'age'}>]], dtype=object)"
      ]
     },
     "execution_count": 434,
     "metadata": {},
     "output_type": "execute_result"
    },
    {
     "data": {
      "image/png": "[encoded data removed]",
      "text/plain": [
       "<Figure size 640x480 with 4 Axes>"
      ]
     },
     "metadata": {},
     "output_type": "display_data"
    }
   ],
   "source": [
    "df_healed = df[(df.status !=\"Declined\") & (df.status !=\"NE\")].drop('id', axis=1)\n",
    "\n",
    "df_healed.hist()"
   ]
  },
  {
   "cell_type": "code",
   "execution_count": 435,
   "id": "71dad02e",
   "metadata": {
    "scrolled": false
   },
   "outputs": [
    {
     "data": {
      "text/plain": [
       "array([[<AxesSubplot:title={'center':'prior_heart_issues'}>,\n",
       "        <AxesSubplot:title={'center':'gender'}>],\n",
       "       [<AxesSubplot:title={'center':'undergoing_treatment'}>,\n",
       "        <AxesSubplot:title={'center':'age'}>]], dtype=object)"
      ]
     },
     "execution_count": 435,
     "metadata": {},
     "output_type": "execute_result"
    },
    {
     "data": {
      "image/png": "[encoded data removed]",
      "text/plain": [
       "<Figure size 640x480 with 4 Axes>"
      ]
     },
     "metadata": {},
     "output_type": "display_data"
    }
   ],
   "source": [
    "df_ne = df[(df.status !=\"Declined\") & (df.status !=\"Healed\")].drop('id', axis=1)\n",
    "df_ne.hist()"
   ]
  },
  {
   "cell_type": "code",
   "execution_count": 451,
   "id": "37f64a71",
   "metadata": {},
   "outputs": [],
   "source": [
    "# Question 3\n",
    "declined_to_test = df[(df.status == 'Declined') & (df.prior_heart_issues)].drop('id', axis=1)"
   ]
  },
  {
   "cell_type": "code",
   "execution_count": 452,
   "id": "8e77b3be",
   "metadata": {},
   "outputs": [],
   "source": [
    "BEST_AGE = 60\n",
    "declined_to_test[\"age_diff\"] = (declined_to_test['age']-BEST_AGE).abs()"
   ]
  },
  {
   "cell_type": "code",
   "execution_count": 453,
   "id": "0b7d63d7",
   "metadata": {},
   "outputs": [
    {
     "data": {
      "text/html": [
       "<div>\n",
       "<style scoped>\n",
       "    .dataframe tbody tr th:only-of-type {\n",
       "        vertical-align: middle;\n",
       "    }\n",
       "\n",
       "    .dataframe tbody tr th {\n",
       "        vertical-align: top;\n",
       "    }\n",
       "\n",
       "    .dataframe thead th {\n",
       "        text-align: right;\n",
       "    }\n",
       "</style>\n",
       "<table border=\"1\" class=\"dataframe\">\n",
       "  <thead>\n",
       "    <tr style=\"text-align: right;\">\n",
       "      <th></th>\n",
       "      <th>prior_heart_issues</th>\n",
       "      <th>status</th>\n",
       "      <th>gender</th>\n",
       "      <th>undergoing_treatment</th>\n",
       "      <th>age</th>\n",
       "      <th>age_diff</th>\n",
       "    </tr>\n",
       "  </thead>\n",
       "  <tbody>\n",
       "    <tr>\n",
       "      <th>10215</th>\n",
       "      <td>1</td>\n",
       "      <td>Declined</td>\n",
       "      <td>1</td>\n",
       "      <td>0</td>\n",
       "      <td>60</td>\n",
       "      <td>0</td>\n",
       "    </tr>\n",
       "    <tr>\n",
       "      <th>5489</th>\n",
       "      <td>1</td>\n",
       "      <td>Declined</td>\n",
       "      <td>1</td>\n",
       "      <td>1</td>\n",
       "      <td>60</td>\n",
       "      <td>0</td>\n",
       "    </tr>\n",
       "    <tr>\n",
       "      <th>2024</th>\n",
       "      <td>1</td>\n",
       "      <td>Declined</td>\n",
       "      <td>1</td>\n",
       "      <td>1</td>\n",
       "      <td>60</td>\n",
       "      <td>0</td>\n",
       "    </tr>\n",
       "    <tr>\n",
       "      <th>1086</th>\n",
       "      <td>1</td>\n",
       "      <td>Declined</td>\n",
       "      <td>1</td>\n",
       "      <td>0</td>\n",
       "      <td>60</td>\n",
       "      <td>0</td>\n",
       "    </tr>\n",
       "    <tr>\n",
       "      <th>4001</th>\n",
       "      <td>1</td>\n",
       "      <td>Declined</td>\n",
       "      <td>1</td>\n",
       "      <td>1</td>\n",
       "      <td>60</td>\n",
       "      <td>0</td>\n",
       "    </tr>\n",
       "    <tr>\n",
       "      <th>...</th>\n",
       "      <td>...</td>\n",
       "      <td>...</td>\n",
       "      <td>...</td>\n",
       "      <td>...</td>\n",
       "      <td>...</td>\n",
       "      <td>...</td>\n",
       "    </tr>\n",
       "    <tr>\n",
       "      <th>4717</th>\n",
       "      <td>1</td>\n",
       "      <td>Declined</td>\n",
       "      <td>1</td>\n",
       "      <td>0</td>\n",
       "      <td>59</td>\n",
       "      <td>1</td>\n",
       "    </tr>\n",
       "    <tr>\n",
       "      <th>4632</th>\n",
       "      <td>1</td>\n",
       "      <td>Declined</td>\n",
       "      <td>1</td>\n",
       "      <td>1</td>\n",
       "      <td>61</td>\n",
       "      <td>1</td>\n",
       "    </tr>\n",
       "    <tr>\n",
       "      <th>4968</th>\n",
       "      <td>1</td>\n",
       "      <td>Declined</td>\n",
       "      <td>1</td>\n",
       "      <td>1</td>\n",
       "      <td>59</td>\n",
       "      <td>1</td>\n",
       "    </tr>\n",
       "    <tr>\n",
       "      <th>4946</th>\n",
       "      <td>1</td>\n",
       "      <td>Declined</td>\n",
       "      <td>1</td>\n",
       "      <td>0</td>\n",
       "      <td>59</td>\n",
       "      <td>1</td>\n",
       "    </tr>\n",
       "    <tr>\n",
       "      <th>4444</th>\n",
       "      <td>1</td>\n",
       "      <td>Declined</td>\n",
       "      <td>1</td>\n",
       "      <td>0</td>\n",
       "      <td>61</td>\n",
       "      <td>1</td>\n",
       "    </tr>\n",
       "  </tbody>\n",
       "</table>\n",
       "<p>100 rows × 6 columns</p>\n",
       "</div>"
      ],
      "text/plain": [
       "       prior_heart_issues    status  gender  undergoing_treatment  age  \\\n",
       "10215                   1  Declined       1                     0   60   \n",
       "5489                    1  Declined       1                     1   60   \n",
       "2024                    1  Declined       1                     1   60   \n",
       "1086                    1  Declined       1                     0   60   \n",
       "4001                    1  Declined       1                     1   60   \n",
       "...                   ...       ...     ...                   ...  ...   \n",
       "4717                    1  Declined       1                     0   59   \n",
       "4632                    1  Declined       1                     1   61   \n",
       "4968                    1  Declined       1                     1   59   \n",
       "4946                    1  Declined       1                     0   59   \n",
       "4444                    1  Declined       1                     0   61   \n",
       "\n",
       "       age_diff  \n",
       "10215         0  \n",
       "5489          0  \n",
       "2024          0  \n",
       "1086          0  \n",
       "4001          0  \n",
       "...         ...  \n",
       "4717          1  \n",
       "4632          1  \n",
       "4968          1  \n",
       "4946          1  \n",
       "4444          1  \n",
       "\n",
       "[100 rows x 6 columns]"
      ]
     },
     "execution_count": 453,
     "metadata": {},
     "output_type": "execute_result"
    }
   ],
   "source": [
    "declined_to_test.sort_values(by=\"age_diff\").head(100)"
   ]
  },
  {
   "cell_type": "code",
   "execution_count": null,
   "id": "c767d109",
   "metadata": {},
   "outputs": [],
   "source": []
  },
  {
   "cell_type": "code",
   "execution_count": null,
   "id": "ce4fd804",
   "metadata": {},
   "outputs": [],
   "source": []
  }
 ],
 "metadata": {
  "kernelspec": {
   "display_name": "Python 3 (ipykernel)",
   "language": "python",
   "name": "python3"
  },
  "language_info": {
   "codemirror_mode": {
    "name": "ipython",
    "version": 3
   },
   "file_extension": ".py",
   "mimetype": "text/x-python",
   "name": "python",
   "nbconvert_exporter": "python",
   "pygments_lexer": "ipython3",
   "version": "3.9.13"
  }
 },
 "nbformat": 4,
 "nbformat_minor": 5
}
